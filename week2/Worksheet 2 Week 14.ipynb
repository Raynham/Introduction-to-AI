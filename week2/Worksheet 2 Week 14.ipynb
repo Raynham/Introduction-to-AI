{
 "cells": [
  {
   "cell_type": "markdown",
   "metadata": {},
   "source": [
    "# Introduction\n",
    "\n",
    "This worksheet covers the three supervised learning algorithms we looked at in week 14: k-nearest neighbours, linear regression, and the naive Bayes classifier. Similar to last week, you will do some work implementing your own versions of these algorithms, to ensure that you understand the details of them. You will also compare them with the implementations in scikit-learn to test your implementations."
   ]
  },
  {
   "cell_type": "markdown",
   "metadata": {},
   "source": [
    "# Preliminaries\n",
    "Import key packages: NumPy, matplotlib, and any others that you prefer to work with. In general, when writing code, you will put all your import statements at the top. However, for these worksheets we will import as we go along."
   ]
  },
  {
   "cell_type": "code",
   "execution_count": 171,
   "metadata": {},
   "outputs": [],
   "source": [
    "#TODO: import NumPy and matplotlib here\n",
    "import numpy as np\n",
    "import matplotlib.pyplot as plt\n",
    "%matplotlib inline"
   ]
  },
  {
   "cell_type": "markdown",
   "metadata": {},
   "source": [
    "# Question 1: k-nearest neighbours classification\n",
    "In this question we will use the k-nearest neighbours algorithm to make predictions on the breast cancer Wisconsin dataset. This is a classification problem where the aim is to classify instances as either being malignant or benign based on the following 10 features:\n",
    "1. radius (mean of distances from center to points on the perimeter)\n",
    "2. texture (standard deviation of gray-scale values)\n",
    "3. perimeter\n",
    "4. area\n",
    "5. smoothness (local variation in radius lengths)\n",
    "6. compactness (perimeter squared/ area −1)\n",
    "7. concavity (severity of concave portions of the contour)\n",
    "8. concave points (number of concave portions of the contour)\n",
    "9. symmetry\n",
    "10. fractal dimension (‘coastline approximation’ −1)\n",
    "\n",
    "In this question you will (a) download the dataset from sklearn and store the data and targets in suitable variables, (b) separate your data into a training and test split, (c) write your own function to implement k-nearest neighbours, (d) check your implementation with that of sklearn. Wethen go on to (e) select the most appropriate value of $k$ using cross-validation."
   ]
  },
  {
   "cell_type": "markdown",
   "metadata": {},
   "source": [
    "## Part (a)\n",
    "Import the package `datasets` from `sklearn` and then load the breast cancer dataset (function is `load_breast_cancer()`). Save the data into a variable `X` and the targets into a variable `Y`. \n",
    "Take a look at the data in `X`. How many datapoints are there? How many features does each datapoint have? (Hint: use `np.shape`).\n",
    "Take a look at the targets. Is this suitable for a classification algorithm or a regression algorithm?"
   ]
  },
  {
   "cell_type": "code",
   "execution_count": 172,
   "metadata": {},
   "outputs": [
    {
     "name": "stdout",
     "output_type": "stream",
     "text": [
      "(569, 30)\n",
      "[0 1]\n"
     ]
    }
   ],
   "source": [
    "# Import suitable packages, load the dataset, and save data and targets into variables X and Y\n",
    "# import packages\n",
    "##TODO##\n",
    "from sklearn import datasets\n",
    "# load dataset and save data and targets into X and Y\n",
    "##TODO##\n",
    "X, Y = datasets.load_breast_cancer().data, datasets.load_breast_cancer().target\n",
    "print(np.shape(X))\n",
    "print(np.unique(Y))"
   ]
  },
  {
   "cell_type": "markdown",
   "metadata": {},
   "source": [
    "There are 569 datapoints, 30 features in the breast cancer dataset. The target values are 0 or 1, it is suitable for classification algorithm."
   ]
  },
  {
   "cell_type": "markdown",
   "metadata": {},
   "source": [
    "## Part (b)\n",
    "\n",
    "Use the function `train_test_split` from `sklearn.model_selection` to split your data into a training set and a held-out test set. Use a test set that is 0.2 of the original dataset. Set the parameter `random_state` to 10 to help with replication."
   ]
  },
  {
   "cell_type": "code",
   "execution_count": 173,
   "metadata": {},
   "outputs": [],
   "source": [
    "# Import the package train_test_split from sklearn.model_selection.\n",
    "# Split the dataset into Xtr, Xtest, Ytr, Ytest. Xtest and Ytest will form your held-out\n",
    "# test set. You will later split Xtr and Ytr into training and validation sets.\n",
    "\n",
    "from sklearn.model_selection import train_test_split as split\n",
    "\n",
    "Xtr, Xtest, Ytr, Ytest = split(X, Y, test_size=0.2, random_state=10)"
   ]
  },
  {
   "cell_type": "markdown",
   "metadata": {},
   "source": [
    "## Part (c) \n",
    "Recall from the lecture that the k-nearest neighbours algorithm runs as follows:\n",
    "\n",
    "Training step: Simply store the dataset\n",
    "\n",
    "Prediction step: Given a datapoint $\\vec{x}$:\n",
    " - **Find** the k datapoints $(\\vec{x}_i, y_i)$ where the distance from $\\vec{x}$ to $\\vec{x}_i$ is smallest\n",
    " - **Return** the majority class from the $y_i$\n",
    "   \n",
    " \n",
    "What, if anything, do you need to do for the training step?\n",
    "\n",
    "Write function(s) to implement the k-nearest neighbours prediction step. You may wish to break the procedure down into two functions `predict_datapoint` that makes a prediction for one datapoint and `predict_data` that loops over the whole dataset.\n",
    "\n",
    "To select the majority class from the nearest neighbours, you can use the function `scipy.stats.mode()`\n"
   ]
  },
  {
   "cell_type": "code",
   "execution_count": 174,
   "metadata": {},
   "outputs": [],
   "source": [
    "from scipy.stats import mode\n",
    "# Write function(s) to implement the prediction step in k-nearest neighbours.\n",
    "# You can use the suggested structure below if desired.\n",
    "\n",
    "\n",
    "# predict_datapoint takes 4 arguments. pt (type: numpy array) is the datapoint we are making a prediction about,\n",
    "# Xtrain and Ytrain (numpy arrays) are training data and targets, k (int) is the number of neighbours.\n",
    "# Returns an integer which is the predicted class for pt\n",
    "def predict_datapoint(pt, Xtrain, Ytrain, k):\n",
    "    # For each datapoint in Xtrain, calculate the distance to pt and store\n",
    "    ##TODO##\n",
    "    distance_arr = []\n",
    "    for i in Xtrain:\n",
    "        distance_arr.append(np.sqrt(np.sum(np.square(pt-i))))\n",
    "    # Sort the list of distances (hint: use np.argsort)\n",
    "    ##TODO##\n",
    "    order_index = np.argsort(distance_arr)\n",
    "    # obtain the classes (in Ytrain) of the datapoints with the smallest distance to pt\n",
    "    ##TODO##\n",
    "    nei_labels = []\n",
    "    for i in range(k):\n",
    "        nei_labels.append(Ytrain[order_index[i]])\n",
    "    # return the mode of the classes\n",
    "    ##TODO##\n",
    "    return mode(nei_labels)[0][0]\n",
    "\n",
    "# predict_data takes 4 arguments: the test data Xtst (numpy array), the training data Xtrain (numpy array),\n",
    "# the training targets Ytrain (numpy array), and the number of neighbours k (int, default = 3).\n",
    "# Returns: predictions (array of int) for each point in Xtst\n",
    "\n",
    "\n",
    "def predict_data(Xtst, Xtrain, Ytrain, k=3):\n",
    "    # Loop over the datapoints in Xtst and store the prediction for that datapoint\n",
    "    ##TODO##\n",
    "    pred_tst = []\n",
    "    for pt in Xtst:\n",
    "        pred_tst.append(predict_datapoint(pt, Xtrain, Ytrain, k))\n",
    "    # Return the predictions\n",
    "    ##TODO##\n",
    "    return pred_tst\n",
    "# Predict values for the TRAINING data (we will not look at the test set yet)\n",
    "##TODO##\n",
    "pred_train = predict_data(Xtr,Xtr,Ytr)"
   ]
  },
  {
   "cell_type": "markdown",
   "metadata": {},
   "source": [
    "## Part (d)\n",
    "Now we can compare your implementation with the sklearn implementation (you should get the same results). Firstly import the classfifier `KNeighborsClassifier` from `sklearn.neighbors`. Instantiate the classifier with the same number of neighbours that you used previously. Fit the model and make a prediction on the test set."
   ]
  },
  {
   "cell_type": "code",
   "execution_count": 175,
   "metadata": {},
   "outputs": [],
   "source": [
    "# Import KNeighborClassifier\n",
    "##TODO##\n",
    "from sklearn.neighbors import KNeighborsClassifier\n",
    "# Instantiate the classifier with 3 neighbors\n",
    "##TODO##\n",
    "knnClassi =  KNeighborsClassifier(n_neighbors=3)\n",
    "#Fit the classifier on the training data\n",
    "##TODO##\n",
    "knnClassi.fit(Xtr,Ytr)\n",
    "#Make a prediction on the training data\n",
    "##TODO##\n",
    "predTrain_sklearn = knnClassi.predict(Xtr)"
   ]
  },
  {
   "cell_type": "markdown",
   "metadata": {},
   "source": [
    "Check whether your predictions are the same as the predictions from `KNeighborsClassifier`."
   ]
  },
  {
   "cell_type": "code",
   "execution_count": 176,
   "metadata": {},
   "outputs": [
    {
     "name": "stdout",
     "output_type": "stream",
     "text": [
      "True\n"
     ]
    }
   ],
   "source": [
    "##TODO##\n",
    "print((predTrain_sklearn == pred_train).all())"
   ]
  },
  {
   "cell_type": "markdown",
   "metadata": {},
   "source": [
    "Use the built in metrics in sklearn to calculate the accuracy of your classifier on the TRAINING set."
   ]
  },
  {
   "cell_type": "code",
   "execution_count": 177,
   "metadata": {},
   "outputs": [
    {
     "data": {
      "text/plain": [
       "0.9560439560439561"
      ]
     },
     "execution_count": 177,
     "metadata": {},
     "output_type": "execute_result"
    }
   ],
   "source": [
    "##TODO## \n",
    "knnClassi.score(Xtr,Ytr)"
   ]
  },
  {
   "cell_type": "markdown",
   "metadata": {},
   "source": [
    "## Part(e) Using cross-validation for model selection\n",
    "k-nearest neighbours has the parameter $k$, and we need to decide which is the best value of $k$ to use. Last week we talked about using cross-validation for model selection.\n",
    "\n",
    "We will use cross-validation on our training set to select the best value of $k$, in a range from 1 to 30.\n",
    "\n",
    "NB: use sklearn's version of k-NN rather than yours, since unless you have optimised yours it is probably too slow.\n",
    "\n",
    "Since we are using cross-validation for model selection we will cross-validate on the training set only.\n",
    "\n",
    "Procedure:\n",
    "        \n",
    " 1. Import `KFold` from `sklearn.model_selection`  \n",
    " 1. Instantiate `KFold` with 5 splits. Set the parameter `random_state` to help you reproduce your results if needed.\n",
    " 1. Set a variable `max_k` to 30  \n",
    " 1. Inititalise two variables to store the training accuracies and validation accuracies (these need to store max_k\\*5 accuracies)  \n",
    " 1. Loop over the values of k:  \n",
    "    1. Instantiate a k-nn classifier (Use the sklearn classifier) with the current value of k  \n",
    "    1. Loop over the cross-validation splits:  \n",
    "       1. fit the model on the current split of data  \n",
    "       1. make predictions  \n",
    "       1. calculate training and validation accuracy and store  \n",
    " 6. Calculate the mean training and validation accuracies across splits for each $k$\n",
    "\n",
    "Plot the mean training and validation accuracies. Which value of $k$ will you use? Why?\n",
    "    "
   ]
  },
  {
   "cell_type": "code",
   "execution_count": 178,
   "metadata": {},
   "outputs": [
    {
     "name": "stdout",
     "output_type": "stream",
     "text": [
      "[1.         0.96868132 0.95604396 0.95       0.95054945 0.94615385\n",
      " 0.94285714 0.9456044  0.94450549 0.94505495 0.93956044 0.93901099\n",
      " 0.93681319 0.93681319 0.93571429 0.93736264 0.93571429 0.93571429\n",
      " 0.93461538 0.93571429 0.93186813 0.93241758 0.92912088 0.92967033\n",
      " 0.92637363 0.92637363 0.92417582 0.92472527 0.92087912 0.92307692]\n",
      "[0.92087912 0.91648352 0.92747253 0.92747253 0.92087912 0.92747253\n",
      " 0.92307692 0.92747253 0.92967033 0.92967033 0.92967033 0.92747253\n",
      " 0.93186813 0.92967033 0.93186813 0.93186813 0.93186813 0.92967033\n",
      " 0.92747253 0.92747253 0.92747253 0.92527473 0.92527473 0.92307692\n",
      " 0.92307692 0.92307692 0.92087912 0.91868132 0.91868132 0.91648352]\n"
     ]
    }
   ],
   "source": [
    "# Use cross-validation to select the value of k\n",
    "# You can use the structure below if desired\n",
    "\n",
    "# Import KFold from sklearn.model_selection\n",
    "##TODO##\n",
    "from sklearn.model_selection import KFold\n",
    "# Instantiate KFold with 5 splits.\n",
    "# Set the parameter random_state to help you reproduce your results if needed.\n",
    "##TODO##\n",
    "kf = KFold(n_splits=5, random_state=63, shuffle=True)\n",
    "# Set a variable max_k to 30\n",
    "##TODO##\n",
    "max_k = 30\n",
    "# Inititalise two variables to store the\n",
    "# training accuracies and validation accuracies\n",
    "# (these need to store max_k*5 accuracies)\n",
    "##TODO##\n",
    "acc_training = [[] for _ in range(max_k)]\n",
    "acc_val = [[] for _ in range(max_k)]\n",
    "# Loop over the values of k:\n",
    "for k in range(max_k):\n",
    "\n",
    "    # Instantiate a k-nn classifier (Use the sklearn classifier)\n",
    "    # with the current value of k\n",
    "    ##TODO##\n",
    "    knn = KNeighborsClassifier(n_neighbors = k + 1)\n",
    "    # Loop over the cross-validation splits:\n",
    "    ##TODO##\n",
    "    for train_index, val_index in kf.split(Xtr):\n",
    "        x_train, x_val = Xtr[train_index], Xtr[val_index]\n",
    "        y_train, y_val = Ytr[train_index], Ytr[val_index]\n",
    "        # fit the model on the current split of data\n",
    "        ##TODO##\n",
    "        knn.fit(x_train, y_train)\n",
    "        # make predictions\n",
    "        ##TODO##\n",
    "        pred_y_train = knn.predict(x_train)\n",
    "        pred_y_val = knn.predict(x_val)\n",
    "        # calculate training and validation accuracy and store\n",
    "        ##TODO##\n",
    "        acc_training[k].append(knn.score(x_train,y_train))\n",
    "        acc_val[k].append(knn.score(x_val,y_val))\n",
    "# Calculate the mean training and validation accuracies across splits for each 𝑘\n",
    "##TODO##\n",
    "mean_acc_tr_eachk = np.mean(acc_training, axis=1)\n",
    "mean_acc_val_eachk = np.mean(acc_val, axis = 1)\n",
    "print(mean_acc_tr_eachk)\n",
    "print(mean_acc_val_eachk)\n"
   ]
  },
  {
   "cell_type": "code",
   "execution_count": 179,
   "metadata": {},
   "outputs": [
    {
     "data": {
      "image/png": "[encoded data removed]",
      "text/plain": [
       "<Figure size 432x288 with 1 Axes>"
      ]
     },
     "metadata": {
      "needs_background": "dark"
     },
     "output_type": "display_data"
    }
   ],
   "source": [
    "# Plot the mean training and validation accuracies against each value of k. Which value of 𝑘 will you use? Why?\n",
    "##TODO##\n",
    "plt.plot(np.linspace(0, 30, 30),mean_acc_tr_eachk)\n",
    "plt.plot(np.linspace(0, 30, 30),mean_acc_val_eachk)\n",
    "plt.legend([\"Training Accuracy\",\"Validation Accuracy\"])\n",
    "plt.show()"
   ]
  },
  {
   "cell_type": "markdown",
   "metadata": {},
   "source": [
    "# The naive Bayes classifier\n",
    "\n",
    "Recall from the lecture notes that the naive Bayes classifier works as follows. We are trying to approximate an unknown function $$f:\\Omega \\rightarrow \\mathcal{O}$$\n",
    "where $\\Omega$ is our feature space and our output space $\\mathcal{O} = \\{c_1, c_2, ... c_K\\}$ is a finite set of classes.\n",
    "\n",
    "The naive Bayes classifier does this by building a model that assigns the class label $\\hat{y} = c_k$ as follows:\n",
    "$$\n",
    "\\hat{y} = \\text{argmax}_k p(c_k)\\prod_i p(x_i| c_k)\n",
    "$$\n",
    "i.e., the $k$ that maximises this quantity.\n",
    "\n",
    "In practice, multiplying all the $p(x_i| c_k)$ together is going to give some very small values. Therefore, we can take the log to make it easier to compute:\n",
    "\\begin{align}\n",
    "\\hat{y} &= \\text{argmax}_k p(c_k)\\prod_i p(x_i| c_k)= \\text{argmax}_k log(p(c_k)\\prod_i p(x_i| c_k))\\\\\n",
    "&=\\text{argmax}_k log(p(c_k)) + \\sum_i log(p(x_i|c_k))\n",
    "\\end{align}\n",
    "\n",
    "If we choose that $p(x_i|c_k)$ is given by a normal distribution with mean $\\mu_k$ and variance $\\sigma_k^2$, then we obtain the following expression:\n",
    "\n",
    "\\begin{align}\n",
    "\\hat{y} &=\\text{argmax}_k \\log(p(c_k)) + \\sum_i \\log(p(x_i|c_k))\\\\\n",
    "&= \\text{argmax}_k \\log(p(c_k)) + \\sum_i \\log\\left(\\frac{1}{\\sigma_k\\sqrt{2\\pi}} exp\\left(\\frac{-(x-\\mu_k)^2}{2\\sigma_k}\\right)\\right)\\\\\n",
    "&= \\text{argmax}_k \\log(p(c_k)) - \\sum_i \\log\\left(\\sigma_k\\sqrt{2\\pi}\\right) - \\sum_i\\left(\\frac{(x-\\mu_k)^2}{2\\sigma_k}\\right) \\quad \\text{ log-likelihood}\n",
    "\\end{align}\n",
    "\n",
    "Expressing the values in terms of these sums means that they do not get so small, and it is less likely that there will be errors at the machine precision level.\n",
    "\n",
    "\n",
    "How do we implement this in practice? We assume that each probability $p(x_i| c_k)$ is given by some distribution, and then given a datapoint $\\vec{x}$, we plug the value into the equation for the distribution.\n",
    "\n",
    "In this question you will (a) implement your own version of the Gaussian naive Bayes classifier, (b) check your classifier against the implementation in sci-kit learn, (c) compare the accuracy of the naive Bayes classifier with the accuracy of the k-nearest neighbours classifier, and (d) run cross-validation to verify whether the kNN classfier or the Gaussian naive Bayes classifier performs better on this dataset.\n",
    "\n",
    "## Part (a) Implementing Gaussian naive Bayes\n",
    "For this question we will make the assumption that each feature is described by a normal (also called Gaussian) distribution. The procedure is as follows:\n",
    "1. Divide the training data by class\n",
    "2. Calculate mean and standard deviation per class and per feature\n",
    "4. For each datapoint in the validation set, calculate the log-likelihood for each class and for each feature (Hint: use the function `scipy.stats.norm.logpdf`)\n",
    "5. Combine these values together with the probability of the class according to the log-likelihood equation above\n",
    "6. Choose the class with the highest value\n"
   ]
  },
  {
   "cell_type": "code",
   "execution_count": 180,
   "metadata": {},
   "outputs": [
    {
     "name": "stdout",
     "output_type": "stream",
     "text": [
      "[1, 0, 0, 1, 1, 0, 1, 0, 0, 1, 0, 1, 1, 0, 0, 1, 1, 0, 1, 0, 0, 1, 1, 1, 1, 0, 0, 1, 0, 1, 1, 0, 1, 1, 0, 1, 1, 1, 1, 1, 1, 1, 1, 1, 1, 1, 0, 0, 1, 1, 0, 0, 1, 1, 1, 0, 1, 1, 0, 1, 1, 1, 0, 0, 1, 0, 1, 1, 0, 0, 0, 0, 1, 1, 1, 0, 0, 1, 1, 1, 1, 1, 1, 0, 1, 1, 0, 1, 1, 1, 1]\n"
     ]
    }
   ],
   "source": [
    "##TODO##\n",
    "# Write your own implementation of naive Bayes applied to the breast cancer dataset.\n",
    "\n",
    "# If you wish you can follow the structure below\n",
    "from scipy.stats import norm\n",
    "\n",
    "# Split the training data Xtr into training and validation sets with an 80:20 split.\n",
    "# Set the random state to help with reproducibility\n",
    "##TODO##\n",
    "x_train_bay, x_val_bay, y_train_bay, y_val_bay = split(\n",
    "    Xtr, Ytr, test_size=0.2, random_state=10)\n",
    "# Separate the training set into classes, so you have one set of data for each class\n",
    "##TODO##\n",
    "x_train_class0 = []\n",
    "x_train_class1 = []\n",
    "for index, val in enumerate(x_train_bay):\n",
    "    if y_train_bay[index] == 0:\n",
    "        x_train_class0.append(val)\n",
    "    if y_train_bay[index] == 1:\n",
    "        x_train_class1.append(val)\n",
    "\n",
    "# Calculate the means and standard deviations for each class, for each feature.\n",
    "# There are 30 features in the dataset, so you should have a 30-dimensional\n",
    "# array of means for each class and a 30-dimensional array of standard deviations\n",
    "# for each class. Remember that you can take the average across rows or columns of\n",
    "# a matrix by specifying axis = 1 or axis = 0\n",
    "##TODO##\n",
    "mean_class0 = np.mean(x_train_class0, axis=0)\n",
    "std_class0 = np.std(x_train_class0, axis=0)\n",
    "mean_class1 = np.mean(x_train_class1, axis=0)\n",
    "std_class1 = np.std(x_train_class1, axis=0)\n",
    "# Calculate the prior probability p(c_i) for each class\n",
    "##TODO##\n",
    "p_ci_class0 = len(x_train_class0)/len(x_train_bay)\n",
    "p_ci_class1 = len(x_train_class1)/len(x_train_bay)\n",
    "# Calculate the log-likelihood of each class for each datapoint in the validation set\n",
    "# Hint: you can use the function scipy.stats.norm.logpdf to help with this\n",
    "##TODO##\n",
    "log_likeli_class0 = []\n",
    "log_likeli_class1 = []\n",
    "for index, val in enumerate(x_val_bay):\n",
    "    log_likeli_class0.append(np.sum(norm(mean_class0, std_class0).logpdf(val)))\n",
    "    log_likeli_class1.append(np.sum(norm(mean_class1, std_class1).logpdf(val)))\n",
    "\n",
    "# Your predicted class is 0 if class 0 has the highest log-likelihood, and 1 if class 1\n",
    "# has the highest log-likelihood\n",
    "##TODO##\n",
    "\n",
    "pred_y_val = []\n",
    "for index, val in enumerate(log_likeli_class0):\n",
    "    if log_likeli_class1[index] > val:\n",
    "        pred_y_val.append(1)\n",
    "    else:\n",
    "        pred_y_val.append(0)\n",
    "print(pred_y_val)"
   ]
  },
  {
   "cell_type": "markdown",
   "metadata": {},
   "source": [
    "## Part (b) Checking results\n",
    "We now compare our results with the sklearn implementation. "
   ]
  },
  {
   "cell_type": "code",
   "execution_count": 181,
   "metadata": {},
   "outputs": [
    {
     "name": "stdout",
     "output_type": "stream",
     "text": [
      "[1 0 0 1 1 0 1 0 0 1 0 1 1 0 0 1 1 0 1 0 0 1 1 1 1 0 0 1 0 1 1 0 1 1 0 1 1\n",
      " 1 1 1 1 1 1 1 1 1 0 0 1 1 0 0 1 1 1 0 1 1 0 1 1 1 0 0 1 0 1 1 0 0 0 0 1 1\n",
      " 1 0 0 1 1 1 1 1 1 0 1 1 0 1 1 1 1]\n"
     ]
    }
   ],
   "source": [
    "##Import the classifier GaussianNB from sklearn.naive_bayes\n",
    "from sklearn.naive_bayes import GaussianNB\n",
    "# Instantiate the classifier (use the parameter var_smoothing=0.0),\n",
    "# fit, and predict the classes\n",
    "##TODO##\n",
    "\n",
    "naive_bayes = GaussianNB(var_smoothing=0.0)\n",
    "naive_bayes.fit(x_train_bay,y_train_bay)\n",
    "pred_y_val_bayes_sklearn = naive_bayes.predict(x_val_bay)\n",
    "print(pred_y_val_bayes_sklearn) "
   ]
  },
  {
   "cell_type": "code",
   "execution_count": 182,
   "metadata": {},
   "outputs": [
    {
     "name": "stdout",
     "output_type": "stream",
     "text": [
      "True\n"
     ]
    }
   ],
   "source": [
    "# Compare your predicted classes with those of the sklearn implementation.\n",
    "# If they are not identical, this may be due to some differences in parameter setting. \n",
    "# They should be almost all the same, however.\n",
    "##TODO##\n",
    "print((pred_y_val_bayes_sklearn == pred_y_val).all())"
   ]
  },
  {
   "cell_type": "markdown",
   "metadata": {},
   "source": [
    "## Part (c) Comparing k-nearest neighbours and Gaussian naive Bayes\n",
    "Now retrain the naive Bayes classifier using the original training set `Xtr`, `Ytr`.\n",
    "Also, retrain the k-nearest neighbours classifier using `Xtr` and `Ytr`. Use the value of $k$ that you decided on using cross-validation.\n",
    "You can use the sklearn implementations of knn and naive Bayes.\n",
    "\n",
    "Compute the accuracy of the naive Bayes classifier over the training set and the held-out test set.\n",
    "\n",
    "Compare with the accuracy of the k-nearest neighbours classifier on each set.\n",
    "\n",
    "Is it clear which classifier is the best on this dataset? why or why not?"
   ]
  },
  {
   "cell_type": "code",
   "execution_count": 183,
   "metadata": {
    "scrolled": false
   },
   "outputs": [
    {
     "name": "stdout",
     "output_type": "stream",
     "text": [
      "Accuracy for knn on training dataset: 0.9494505494505494:\n",
      "Accuracy for knn on test dataset: 0.9210526315789473:\n",
      "Accuracy for naive bayes on training dataset: 0.9274725274725275:\n",
      "Accuracy for naive bayes on test dataset: 0.956140350877193:\n"
     ]
    }
   ],
   "source": [
    "# Instantiate the knn classifer with your chosen value of k\n",
    "##TODO##\n",
    "knn2 = KNeighborsClassifier(n_neighbors=5)\n",
    "# Fit the Gaussian naive Bayes classifier and the knn classifier on Xtr, Ytr\n",
    "##TODO##\n",
    "naive_bayes.fit(Xtr,Ytr)\n",
    "knn2.fit(Xtr,Ytr)\n",
    "# Make predictions for the training set and the test set\n",
    "##TODO##\n",
    "pred_train_knn = knn2.predict(Xtr)\n",
    "pred_test_knn = knn2.predict(Xtest)\n",
    "pred_train_naive_bayes = naive_bayes.predict(Xtr)\n",
    "pred_test_naive_bayes = naive_bayes.predict(Xtest)\n",
    "# Take a look at the accuracy scores\n",
    "##TODO##\n",
    "acc_train_knn = knn2.score(Xtr,Ytr)\n",
    "acc_test_knn = knn2.score(Xtest,Ytest)\n",
    "acc_train_naive_bayes = naive_bayes.score(Xtr,Ytr)\n",
    "acc_test_naive_bayes = naive_bayes.score(Xtest,Ytest)\n",
    "print(\"Accuracy for knn on training dataset: {}:\".format(acc_train_knn))\n",
    "print(\"Accuracy for knn on test dataset: {}:\".format(acc_test_knn))\n",
    "print(\"Accuracy for naive bayes on training dataset: {}:\".format(acc_train_naive_bayes))\n",
    "print(\"Accuracy for naive bayes on test dataset: {}:\".format(acc_test_naive_bayes))\n"
   ]
  },
  {
   "cell_type": "markdown",
   "metadata": {},
   "source": [
    "## Part (d) Using cross-validation for statistical validation\n",
    "Earlier we used cross-validation to select the model parameters we would be using. We can also use it another way: to provide statistical information about which model is best. We will set up cross-validation on the whole dataset, with 10 folds.\n",
    "\n",
    " - Compute the accuracy for each model on the test set on each fold.\n",
    " - Calculate the mean accuracy across folds. Which model performs best?\n",
    " - Make a box-plot of the spread of scores of each model. Is there a clear difference between model performance?\n",
    " - Perform a paired t-test on the accuracy scores. What can you conclude about the performance of the two models?\n"
   ]
  },
  {
   "cell_type": "code",
   "execution_count": 184,
   "metadata": {},
   "outputs": [],
   "source": [
    "# Set up a k-fold cross-validation with 10 folds\n",
    "##TODO##\n",
    "kf = KFold(n_splits=10, random_state=20, shuffle=True)"
   ]
  },
  {
   "cell_type": "code",
   "execution_count": 185,
   "metadata": {},
   "outputs": [],
   "source": [
    "# For each fold, fit each model on the training data\n",
    "# and compute accuracy on the test data.\n",
    "##TODO##\n",
    "acc_test_knn_per_fold = []\n",
    "acc_test_naive_bayes_per_fold = []\n",
    "for train_index, test_index in kf.split(X):\n",
    "    X_train, X_test = X[train_index], X[test_index]\n",
    "    Y_train, Y_test = Y[train_index], Y[test_index]\n",
    "    naive_bayes.fit(X_train, Y_train)\n",
    "    knn2.fit(X_train, Y_train)\n",
    "    acc_test_knn_per_fold.append(knn2.score(X_test,Y_test))\n",
    "    acc_test_naive_bayes_per_fold.append(naive_bayes.score(X_test,Y_test))"
   ]
  },
  {
   "cell_type": "code",
   "execution_count": 186,
   "metadata": {},
   "outputs": [
    {
     "name": "stdout",
     "output_type": "stream",
     "text": [
      "After the corss validation with folds = 10\n",
      "The average of Accuracies for knn: 0.9333020050125315:\n",
      "The standard devation of Accuracies for knn: 0.04420923382606531:\n",
      "The average of Accuracies for naive bays: 0.9350250626566415:\n",
      "The standard devation of Accuracies for naive bays: 0.034190151101913195:\n"
     ]
    }
   ],
   "source": [
    "# Compute the mean and standard devation of the accuracies for each model.\n",
    "# Does one model perform better?\n",
    "##TODO##\n",
    "acc_mean_CV_knn = np.mean(acc_test_knn_per_fold)\n",
    "acc_std_CV_knn =  np.std(acc_test_knn_per_fold)\n",
    "acc_mean_CV_naive_bays = np.mean(acc_test_naive_bayes_per_fold)\n",
    "acc_std_CV_naive_bays = np.std(acc_test_naive_bayes_per_fold)\n",
    "print(\"After the corss validation with folds = 10\")\n",
    "print(\"The average of Accuracies for knn: {}:\".format(acc_mean_CV_knn))\n",
    "print(\"The standard devation of Accuracies for knn: {}:\".format(acc_std_CV_knn))\n",
    "print(\"The average of Accuracies for naive bays: {}:\".format(acc_mean_CV_naive_bays))\n",
    "print(\"The standard devation of Accuracies for naive bays: {}:\".format(acc_std_CV_naive_bays))"
   ]
  },
  {
   "cell_type": "markdown",
   "metadata": {},
   "source": [
    "The average of Accuracies for naive bays is more than that for knn and the standard deviation of Accuracies for naive bays is less than that for knn. This means the naive bays model has generally better performance on this current dataset."
   ]
  },
  {
   "cell_type": "code",
   "execution_count": 187,
   "metadata": {},
   "outputs": [
    {
     "data": {
      "image/png": "[encoded data removed]",
      "text/plain": [
       "<Figure size 432x288 with 1 Axes>"
      ]
     },
     "metadata": {
      "needs_background": "dark"
     },
     "output_type": "display_data"
    }
   ],
   "source": [
    "# Make a boxplot of the accuracy scores. (Use plt.boxplot). \n",
    "# Is there a clear difference between the models?\n",
    "##TODO##\n",
    "labels = 'The accuracy for knn', 'The accuracy for naive bays'\n",
    "plt.boxplot([acc_test_knn_per_fold, acc_test_naive_bayes_per_fold], labels = labels, showmeans=True)\n",
    "plt.show()"
   ]
  },
  {
   "cell_type": "markdown",
   "metadata": {},
   "source": [
    "The range of accuracies for knn varies more than that for naive bays. And most accuracy values for naive bays is over 0.93 and most accuracy values for knn is below 0.94."
   ]
  },
  {
   "cell_type": "code",
   "execution_count": 188,
   "metadata": {},
   "outputs": [
    {
     "name": "stdout",
     "output_type": "stream",
     "text": [
      "T statistics: -0.11388183314031669 P value: 0.9118314583498663\n"
     ]
    }
   ],
   "source": [
    "# Perform a paired t-test (you can use the function scipy.stats.ttest_rel). \n",
    "# What do you conclude about the performance of the two models?\n",
    "##TODO##\n",
    "from scipy.stats import ttest_rel\n",
    "t_sta, p_value = ttest_rel(acc_test_knn_per_fold,acc_test_naive_bayes_per_fold)\n",
    "print(\"T statistics: {}\".format(t_sta), \"P value: {}\".format(p_value))"
   ]
  },
  {
   "cell_type": "markdown",
   "metadata": {},
   "source": [
    "The average of Accuracies for knn is more than that for naive bays, and we reject to admit these two models have the same performance under 95% confidence level. "
   ]
  },
  {
   "cell_type": "markdown",
   "metadata": {},
   "source": [
    "## Linear Regression\n",
    "In linear regression we make the assumption that the data $(x_i, y_i)$ can be modelled by a function of the form\n",
    "$$ \\hat{y_i} = f(\\vec{x}_i)= \\sum_j a_j x_{ij}  + b_i$$\n",
    "\n",
    "Recall that we can express this in a matrix format by:\n",
    "$$ \\hat{\\vec{y}} = f(X)= X\\Theta$$\n",
    "\n",
    "where \n",
    "$$ X=\\begin{pmatrix}\n",
    "x_{1,1} & x_{1,2} & \\ldots & x_{1,n} &1 \\\\\n",
    "\\vdots & \\vdots & \\ldots & \\vdots & \\vdots \\\\\n",
    "x_{N,1} & x_{N,2} & \\ldots & x_{N,n} & 1\n",
    "\\end{pmatrix}, \\quad \\vec{y}=\\begin{pmatrix} y_1 \\\\ \\vdots \\\\y_N \\end{pmatrix}, \\quad \\Theta=\\begin{pmatrix} a_1 \\\\ \\vdots \\\\a_n\\\\b \\end{pmatrix}$$\n",
    "\n",
    "We saw in lectures that the optimal value of $\\Theta$ is given by setting\n",
    "$$ \\Theta = (X^T X)^{-1} X^T \\vec{y}$$\n",
    "\n",
    "The quantity $(X^T X)^{-1} X^T$ is called the psuedoinverse of X, and can be computed using the function `np.linalg.pinv`.\n",
    "\n",
    "We will (a) perform a linear regression on the diabetes dataset. You can load this dataset using the function `load_diabetes` from `sklearn.datasets`. (b) compute the mean squared error and the R^2, and (c) compare your results with the built in function in sklearn (`sklearn.linear_model.LinearRegresion()`). You should get the same results."
   ]
  },
  {
   "cell_type": "code",
   "execution_count": 189,
   "metadata": {},
   "outputs": [],
   "source": [
    "# import statments here\n",
    "from sklearn import datasets, linear_model\n",
    "from sklearn.model_selection import train_test_split\n",
    "from sklearn.metrics import mean_squared_error, r2_score"
   ]
  },
  {
   "cell_type": "markdown",
   "metadata": {},
   "source": [
    "## Part (a) Implementing linear regression"
   ]
  },
  {
   "cell_type": "code",
   "execution_count": 324,
   "metadata": {},
   "outputs": [
    {
     "name": "stdout",
     "output_type": "stream",
     "text": [
      "(442, 10) (442,)\n"
     ]
    }
   ],
   "source": [
    "# Load the diabetes dataset\n",
    "##TODO##\n",
    "from sklearn.datasets import load_diabetes\n",
    "X, Y = load_diabetes().data, load_diabetes().target\n",
    "print(np.shape(X),np.shape(Y))\n",
    "# Split the dataset into training and test, using test_size=0.2\n",
    "##TODO##\n",
    "Xtrain, Xtest, Ytrain, Ytest = split(X, Y, test_size=0.2, random_state=10)"
   ]
  },
  {
   "cell_type": "code",
   "execution_count": 325,
   "metadata": {},
   "outputs": [
    {
     "name": "stdout",
     "output_type": "stream",
     "text": [
      "(353, 11) (89, 11)\n"
     ]
    }
   ],
   "source": [
    "# Add a column of ones to Xtrain and Xtest for the intercept term\n",
    "##TODO##\n",
    "Xtrain = np.column_stack((Xtrain, np.linspace(1,1,len(Xtrain))[:,None]))\n",
    "Xtest = np.column_stack((Xtest, np.linspace(1,1,len(Xtest))[:,None]))\n",
    "print(np.shape(Xtrain),np.shape(Xtest))"
   ]
  },
  {
   "cell_type": "code",
   "execution_count": 327,
   "metadata": {},
   "outputs": [
    {
     "name": "stdout",
     "output_type": "stream",
     "text": [
      "[[  -3.89155188]\n",
      " [-225.62880027]\n",
      " [ 517.89525355]\n",
      " [ 328.32132183]\n",
      " [-727.23345563]\n",
      " [ 410.96799392]\n",
      " [  80.26601137]\n",
      " [ 218.18738355]\n",
      " [ 704.2805541 ]\n",
      " [  40.02247238]\n",
      " [ 152.25550535]]\n"
     ]
    }
   ],
   "source": [
    "# Calculate the value of the coefficients theta. You can use the function np.linalg.pinv\n",
    "##TODO##\n",
    "pseudo_inverse = np.linalg.pinv(Xtrain)\n",
    "theta = np.dot(pseudo_inverse,  Ytrain[:,None])\n",
    "print(theta)"
   ]
  },
  {
   "cell_type": "markdown",
   "metadata": {},
   "source": [
    "## Part (b) Computing performance metrics"
   ]
  },
  {
   "cell_type": "code",
   "execution_count": 328,
   "metadata": {},
   "outputs": [
    {
     "name": "stdout",
     "output_type": "stream",
     "text": [
      "[148.0978202  208.21400551 186.40125844  82.48876916 163.39689627\n",
      " 126.17904513 126.17880476 264.70212482  78.54654307  73.56261024\n",
      " 124.46582144 142.22854705 166.4549438   98.5009742   49.71902346\n",
      " 223.51963411 143.44310503 110.50382605 202.53415354  78.49893296\n",
      " 191.80901882 243.20695862  75.88822445 214.90606332  55.73078912\n",
      " 158.0288059  157.54022573 158.88728076 166.2184483  107.63124236\n",
      " 276.82392637 179.20197197  60.48832138 157.42965435 218.98333103\n",
      " 182.29672873  70.84400009 186.74011272 285.13886084 196.19611072\n",
      " 202.26256246 145.38319546 215.02583484 124.55391269  80.17027241\n",
      "  98.99544054  82.02453761  83.40439369 289.99388729 134.33663141\n",
      " 112.1313993  152.32625919 109.90441466 226.28134724 245.74116064\n",
      "  85.56172621 122.28262271 139.20254207 198.95361934 120.92252444\n",
      " 179.99231965 106.43580454 123.03066928  96.46348156  94.96521004\n",
      " 230.01995973 175.10428431  91.2918623  167.79340958 121.57123563\n",
      " 165.20563345 181.26779154  65.1051729   72.81485938 231.35619415\n",
      " 185.78771152 173.68883444 158.22007536 108.88134149 164.4597236\n",
      " 182.06381167 124.68118663 206.58693233 147.68873424 155.35855424\n",
      " 151.40752238 140.07914902  89.42949429 115.09720605]\n"
     ]
    }
   ],
   "source": [
    "# Make a prediction on the test set by applying the coefficients theta to the test set\n",
    "##TODO##\n",
    "pred_y_test = np.dot(Xtest,theta)\n",
    "print(pred_y_test.T[0])\n"
   ]
  },
  {
   "cell_type": "code",
   "execution_count": 329,
   "metadata": {},
   "outputs": [
    {
     "name": "stdout",
     "output_type": "stream",
     "text": [
      "[200. 202.  67.  80. 151. 145.  65. 308.  42.  92. 150. 202. 184. 101.\n",
      "  47. 237.  88. 152. 109.  89. 163. 274. 138. 275.  63. 154. 131.  91.\n",
      " 128. 129. 243. 200.  72. 185. 296. 144.  75. 175. 281. 292. 292. 214.\n",
      " 275.  92.  65.  31.  53.  51. 258.  40.  69.  86. 142. 128. 243.  55.\n",
      " 144. 230. 265.  63. 217. 102.  66. 101. 137. 261. 147.  64. 252.  59.\n",
      " 220. 126.  43.  48. 217. 164. 143. 206.  72. 110. 244.  51.  52. 302.\n",
      " 276. 150. 124. 114. 179.]\n"
     ]
    }
   ],
   "source": [
    "print(Ytest)"
   ]
  },
  {
   "cell_type": "code",
   "execution_count": 330,
   "metadata": {},
   "outputs": [
    {
     "name": "stdout",
     "output_type": "stream",
     "text": [
      "2911.827951689161 0.5341962544929233\n"
     ]
    }
   ],
   "source": [
    "# Calculate the mean squared error and the R^2. \n",
    "# You can use the built in functions from sklearn\n",
    "from sklearn import metrics\n",
    "##TODO##\n",
    "mse = metrics.mean_squared_error(Ytest,pred_y_test)\n",
    "r2 = metrics.r2_score(Ytest,pred_y_test)\n",
    "print(mse,r2)"
   ]
  },
  {
   "cell_type": "markdown",
   "metadata": {},
   "source": [
    "## Part (c) Checking results\n",
    "Compare your results with the built in function `sklearn.linear_model.LinearRegression()`"
   ]
  },
  {
   "cell_type": "code",
   "execution_count": 331,
   "metadata": {},
   "outputs": [],
   "source": [
    "# Instantiate the linear regression\n",
    "##TODO##\n",
    "from sklearn.linear_model import LinearRegression as lr\n",
    "linear_regression = lr()\n"
   ]
  },
  {
   "cell_type": "code",
   "execution_count": 334,
   "metadata": {},
   "outputs": [
    {
     "name": "stdout",
     "output_type": "stream",
     "text": [
      "[148.0978202  208.21400551 186.40125844  82.48876916 163.39689627\n",
      " 126.17904513 126.17880476 264.70212482  78.54654307  73.56261024\n",
      " 124.46582144 142.22854705 166.4549438   98.5009742   49.71902346\n",
      " 223.51963411 143.44310503 110.50382605 202.53415354  78.49893296\n",
      " 191.80901882 243.20695862  75.88822445 214.90606332  55.73078912\n",
      " 158.0288059  157.54022573 158.88728076 166.2184483  107.63124236\n",
      " 276.82392637 179.20197197  60.48832138 157.42965435 218.98333103\n",
      " 182.29672873  70.84400009 186.74011272 285.13886084 196.19611072\n",
      " 202.26256246 145.38319546 215.02583484 124.55391269  80.17027241\n",
      "  98.99544054  82.02453761  83.40439369 289.99388729 134.33663141\n",
      " 112.1313993  152.32625919 109.90441466 226.28134724 245.74116064\n",
      "  85.56172621 122.28262271 139.20254207 198.95361934 120.92252444\n",
      " 179.99231965 106.43580454 123.03066928  96.46348156  94.96521004\n",
      " 230.01995973 175.10428431  91.2918623  167.79340958 121.57123563\n",
      " 165.20563345 181.26779154  65.1051729   72.81485938 231.35619415\n",
      " 185.78771152 173.68883444 158.22007536 108.88134149 164.4597236\n",
      " 182.06381167 124.68118663 206.58693233 147.68873424 155.35855424\n",
      " 151.40752238 140.07914902  89.42949429 115.09720605]\n"
     ]
    },
    {
     "data": {
      "text/plain": [
       "0.5341962544929233"
      ]
     },
     "execution_count": 334,
     "metadata": {},
     "output_type": "execute_result"
    }
   ],
   "source": [
    "# Fit the model and make a prediction on the test set. Compare with your implementation\n",
    "##TODO##\n",
    "linear_regression.fit(Xtrain,Ytrain)\n",
    "pred_sklearn_linear = linear_regression.predict(Xtest)\n",
    "print(pred_sklearn_linear)\n",
    "linear_regression.score(Xtest, Ytest)"
   ]
  },
  {
   "cell_type": "markdown",
   "metadata": {},
   "source": [
    "Visualise the perfomance of the regression by plotting your predicted values vs target values on a scatter plot, and drawing a line y=x. If all predictions were perfect, the predicted values would lie on the line."
   ]
  },
  {
   "cell_type": "code",
   "execution_count": 344,
   "metadata": {},
   "outputs": [
    {
     "name": "stdout",
     "output_type": "stream",
     "text": [
      "89\n"
     ]
    },
    {
     "data": {
      "text/plain": [
       "Text(0, 0.5, 'predicted value')"
      ]
     },
     "execution_count": 344,
     "metadata": {},
     "output_type": "execute_result"
    },
    {
     "data": {
      "image/png": "[encoded data removed]",
      "text/plain": [
       "<Figure size 432x288 with 1 Axes>"
      ]
     },
     "metadata": {
      "needs_background": "dark"
     },
     "output_type": "display_data"
    }
   ],
   "source": [
    "# Plot predicted values vs target values on a scatter plot, and drawing a line y=x\n",
    "## TODO##\n",
    "print(len(Xtest))\n",
    "fig, ax = plt.subplots()\n",
    "ax.scatter(Ytest, pred_sklearn_linear, label='Data')\n",
    "x_axis = np.linspace(0,300,300)\n",
    "y_axis = x_axis\n",
    "plt.plot(x_axis,y_axis)\n",
    "plt.xlabel('target')\n",
    "plt.ylabel('predicted value')\n"
   ]
  },
  {
   "cell_type": "markdown",
   "metadata": {},
   "source": [
    "# Extra question: Polynomial regression\n",
    "The term 'linear' in linear regression refers only to the coefficients $\\theta$. We can in fact compute polynomial terms in the data and perform linear regression over this extended dataset to get a better fit to the data.\n",
    "\n",
    "To compute polynomial terms in the data automatically, you can use the class `sklearn.preprocessing.PolynomialFeatures`. To find out how to use it, look at the guidance (you can type `help(PolynomialFeatures)` once you have imported it).\n",
    "\n",
    "The following small dataset (in the cell below) gives a relationship between temperature and yield for an experiment. Use cross-validation to select the degree of the polynomial that best fits this data.\n",
    "\n",
    "Plot the mean squared error against degree on the training set and on the validation set. Which degree of polynomial best fits this data?"
   ]
  },
  {
   "cell_type": "code",
   "execution_count": 354,
   "metadata": {},
   "outputs": [],
   "source": [
    "# Data\n",
    "X = np.array([50,50,50,70,70,70,80,80,80,90,90,90,100,100,100]).reshape(-1, 1)\n",
    "y = np.array([3.3,2.8,2.9,2.3,2.6,2.1,2.5,2.9,2.4,3,3.1,2.8,3.3,3.5,3]).reshape(-1, 1)"
   ]
  },
  {
   "cell_type": "code",
   "execution_count": 385,
   "metadata": {},
   "outputs": [
    {
     "data": {
      "image/png": "[encoded data removed]",
      "text/plain": [
       "<Figure size 432x288 with 1 Axes>"
      ]
     },
     "metadata": {
      "needs_background": "dark"
     },
     "output_type": "display_data"
    }
   ],
   "source": [
    "from sklearn.preprocessing import PolynomialFeatures\n",
    "kf = KFold(n_splits=5, random_state=20, shuffle=True)\n",
    "max_degree = 20\n",
    "degrees = np.arange(2, max_degree + 1)\n",
    "mse_train = [[] for _ in range(max_degree-1)]\n",
    "mse_test = [[] for _ in range(max_degree-1)]\n",
    "for i, degree in enumerate(degrees):\n",
    "    ploy = PolynomialFeatures(degree)\n",
    "    for train_index, test_index in kf.split(X):\n",
    "        Xtrain, Xtest = X[train_index], X[test_index]\n",
    "        ytrain, ytest = y[train_index], y[test_index]\n",
    "        x_train_fitted = ploy.fit_transform(Xtrain)\n",
    "        x_test_fitted = ploy.fit_transform(Xtest)\n",
    "        linear_regression.fit(x_train_fitted, ytrain)\n",
    "        pred_train = linear_regression.predict(x_train_fitted)\n",
    "        pred_test = linear_regression.predict(x_test_fitted)\n",
    "        mse_train[i].append(metrics.mean_squared_error(ytrain, pred_train))\n",
    "        mse_test[i].append(metrics.mean_squared_error(ytest, pred_test))\n",
    "mean_mse_train = np.mean(mse_train, axis=1)\n",
    "mean_mse_test = np.mean(mse_test, axis=1)\n",
    "plt.plot(np.linspace(2,max_degree, max_degree-1),mean_mse_train)\n",
    "plt.plot(np.linspace(2,max_degree, max_degree-1),mean_mse_test)\n",
    "plt.legend([\"Training Accuracy\",\"Validation Accuracy\"])\n",
    "plt.xlabel('degree')\n",
    "plt.ylabel('mean squard error')\n",
    "plt.show()"
   ]
  }
 ],
 "metadata": {
  "kernelspec": {
   "display_name": "Python 3",
   "language": "python",
   "name": "python3"
  },
  "language_info": {
   "codemirror_mode": {
    "name": "ipython",
    "version": 3
   },
   "file_extension": ".py",
   "mimetype": "text/x-python",
   "name": "python",
   "nbconvert_exporter": "python",
   "pygments_lexer": "ipython3",
   "version": "3.10.2"
  }
 },
 "nbformat": 4,
 "nbformat_minor": 2
}
